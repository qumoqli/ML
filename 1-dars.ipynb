{
 "cells": [
  {
   "cell_type": "markdown",
   "metadata": {},
   "source": [
    "# HOMEWORK\n",
    "\n",
    "#O'tilgan 4 turdagi data typelar yarating va ularni xaqiqatdan o'sha data typega mansub ekanligini ko'rsating\n",
    "\n",
    "#Berilgan stringni boshi va oxirdan 2chi da turgan xarflardan iborat so'z xosil qiling\n",
    "\n",
    "#String yarating va uni boshidan 4 ta xarfidan iborat so'z xosil qiling\n",
    "\n",
    "#Berilgan sonni berilgan boshqa songa bo'lganimizdagi qoldiqni toping\n",
    "\n",
    "#Ikki xonali sonning raqamlar yig'indisini toping(ixtiyoriy: Xarakat qilib ko'ring)\n",
    "\n",
    "#Istalgan sonni istalgan darajasini ekranga chiqaring (toping)"
   ]
  },
  {
   "cell_type": "markdown",
   "metadata": {},
   "source": [
    "# 1-TOPSHIRIQ \n",
    "O'tilgan 4 turdagi data typelar yarating va ularni xaqiqatdan o'sha data typega mansub ekanligini ko'rsating\n"
   ]
  },
  {
   "cell_type": "code",
   "execution_count": 7,
   "metadata": {},
   "outputs": [],
   "source": [
    "#int\n",
    "#float\n",
    "#Str\n",
    "#Boolean"
   ]
  },
  {
   "cell_type": "code",
   "execution_count": 8,
   "metadata": {},
   "outputs": [
    {
     "data": {
      "text/plain": [
       "int"
      ]
     },
     "execution_count": 8,
     "metadata": {},
     "output_type": "execute_result"
    }
   ],
   "source": [
    "#int+MAth operations (+,-,/,*)\n",
    "#O'zgaruvchilar\n",
    "x=4\n",
    "type(x)"
   ]
  },
  {
   "cell_type": "code",
   "execution_count": 9,
   "metadata": {},
   "outputs": [
    {
     "data": {
      "text/plain": [
       "float"
      ]
     },
     "execution_count": 9,
     "metadata": {},
     "output_type": "execute_result"
    }
   ],
   "source": [
    "y=4.0\n",
    "type(y)"
   ]
  },
  {
   "cell_type": "code",
   "execution_count": 12,
   "metadata": {},
   "outputs": [
    {
     "name": "stdout",
     "output_type": "stream",
     "text": [
      "ikki sonni yigindisi 11\n",
      "ikki sonni ayirmasi 3\n",
      "ikki sonni kopaytmasi 28\n",
      "ikki sonni bolinmasi 1.75\n"
     ]
    }
   ],
   "source": [
    "x=4\n",
    "y=7\n",
    "print('ikki sonni yigindisi',x+y)\n",
    "print('ikki sonni ayirmasi',y-x)\n",
    "print('ikki sonni kopaytmasi',x*y)\n",
    "print('ikki sonni bolinmasi',y/x)"
   ]
  },
  {
   "cell_type": "code",
   "execution_count": 14,
   "metadata": {},
   "outputs": [
    {
     "name": "stdout",
     "output_type": "stream",
     "text": [
      "ikki sonni yigindisi 12.0\n",
      "ikki sonni ayirmasi 3.5999999999999996\n",
      "ikki sonni kopaytmasi 32.76\n",
      "ikki sonni bolinmasi 1.857142857142857\n"
     ]
    }
   ],
   "source": [
    "#float\n",
    "\n",
    "x=4.2\n",
    "y=7.8\n",
    "print('ikki sonni yigindisi',x+y)\n",
    "print('ikki sonni ayirmasi',y-x)\n",
    "print('ikki sonni kopaytmasi',x*y)\n",
    "print('ikki sonni bolinmasi',y/x)"
   ]
  },
  {
   "cell_type": "code",
   "execution_count": 17,
   "metadata": {},
   "outputs": [
    {
     "name": "stdout",
     "output_type": "stream",
     "text": [
      "inspire_me\n"
     ]
    }
   ],
   "source": [
    "#Str\n",
    "\n",
    "s='inspire'\n",
    "d='me'\n",
    "print(s+'_'+d)"
   ]
  },
  {
   "cell_type": "code",
   "execution_count": 21,
   "metadata": {},
   "outputs": [],
   "source": [
    "#Boolean\n",
    "#Qiyoslash operatorlari(<,>,<=,>=,==,!=)\n",
    "\n"
   ]
  },
  {
   "cell_type": "code",
   "execution_count": 22,
   "metadata": {},
   "outputs": [
    {
     "data": {
      "text/plain": [
       "False"
      ]
     },
     "execution_count": 22,
     "metadata": {},
     "output_type": "execute_result"
    }
   ],
   "source": [
    "7<2"
   ]
  },
  {
   "cell_type": "code",
   "execution_count": 23,
   "metadata": {},
   "outputs": [
    {
     "data": {
      "text/plain": [
       "True"
      ]
     },
     "execution_count": 23,
     "metadata": {},
     "output_type": "execute_result"
    }
   ],
   "source": [
    "0>-1"
   ]
  },
  {
   "cell_type": "code",
   "execution_count": 25,
   "metadata": {},
   "outputs": [
    {
     "data": {
      "text/plain": [
       "True"
      ]
     },
     "execution_count": 25,
     "metadata": {},
     "output_type": "execute_result"
    }
   ],
   "source": [
    "'i' in s"
   ]
  },
  {
   "cell_type": "code",
   "execution_count": 28,
   "metadata": {},
   "outputs": [
    {
     "data": {
      "text/plain": [
       "True"
      ]
     },
     "execution_count": 28,
     "metadata": {},
     "output_type": "execute_result"
    }
   ],
   "source": [
    "2==2"
   ]
  },
  {
   "cell_type": "markdown",
   "metadata": {},
   "source": [
    "\n",
    "# 2-TOPSHIRIQ\n",
    "Berilgan stringni boshi va oxirdan 2chi da turgan xarflardan iborat so'z xosil qiling"
   ]
  },
  {
   "cell_type": "code",
   "execution_count": 18,
   "metadata": {},
   "outputs": [],
   "source": [
    "a='independet'\n"
   ]
  },
  {
   "cell_type": "code",
   "execution_count": 19,
   "metadata": {},
   "outputs": [
    {
     "data": {
      "text/plain": [
       "'n'"
      ]
     },
     "execution_count": 19,
     "metadata": {},
     "output_type": "execute_result"
    }
   ],
   "source": [
    "a[1]"
   ]
  },
  {
   "cell_type": "code",
   "execution_count": 20,
   "metadata": {},
   "outputs": [
    {
     "data": {
      "text/plain": [
       "'e'"
      ]
     },
     "execution_count": 20,
     "metadata": {},
     "output_type": "execute_result"
    }
   ],
   "source": [
    "a[-2]"
   ]
  },
  {
   "cell_type": "markdown",
   "metadata": {},
   "source": [
    "# 3-TOPSHIRIQ\n",
    "String yarating va uni boshidan 4 ta xarfidan iborat so'z xosil qiling"
   ]
  },
  {
   "cell_type": "code",
   "execution_count": 4,
   "metadata": {},
   "outputs": [
    {
     "data": {
      "text/plain": [
       "'suit'"
      ]
     },
     "execution_count": 4,
     "metadata": {},
     "output_type": "execute_result"
    }
   ],
   "source": [
    "m='suitable'\n",
    "m[:4]"
   ]
  },
  {
   "cell_type": "markdown",
   "metadata": {},
   "source": [
    "# 4-TOPSHIRIQ\n",
    "\n",
    "Berilgan sonni berilgan boshqa songa bo'lganimizdagi qoldiqni toping"
   ]
  },
  {
   "cell_type": "code",
   "execution_count": 9,
   "metadata": {},
   "outputs": [
    {
     "name": "stdout",
     "output_type": "stream",
     "text": [
      "9 ni 7 ga bo‘lgandagi qoldiq: 2\n"
     ]
    }
   ],
   "source": [
    "a = int(input('Birinchi sonni kiriting (bo‘linuvchi): '))\n",
    "b = int(input('Ikkinchi sonni kiriting (bo‘luvchi): '))\n",
    "\n",
    "qoldiq = a % b\n",
    "print(f\"{a} ni {b} ga bo‘lgandagi qoldiq: {qoldiq}\")\n"
   ]
  }
 ],
 "metadata": {
  "kernelspec": {
   "display_name": "Python 3",
   "language": "python",
   "name": "python3"
  },
  "language_info": {
   "codemirror_mode": {
    "name": "ipython",
    "version": 3
   },
   "file_extension": ".py",
   "mimetype": "text/x-python",
   "name": "python",
   "nbconvert_exporter": "python",
   "pygments_lexer": "ipython3",
   "version": "3.12.3"
  }
 },
 "nbformat": 4,
 "nbformat_minor": 2
}
