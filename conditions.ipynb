{
 "cells": [
  {
   "cell_type": "markdown",
   "metadata": {},
   "source": [
    "# Conditions"
   ]
  },
  {
   "cell_type": "code",
   "execution_count": 13,
   "metadata": {},
   "outputs": [],
   "source": [
    "# Parol yasang va u to'g'ri bo'lsa mumkin aks xolda xato!Qayta urunib ko'ring degan yozuvni ekranga chiqaring\n",
    "# O'quvchini olgan baxolariga ko'ra tarif bering(5:Alo, 4:Yaxshi, 3: O'rta, 2: Yomon)\n",
    "# Agar son xam 2 ga xam 3 ga bo'linishini ko'rsating(BOoleandan foydalaning)\n",
    "# Agar son xam 2 ga xam 3 ga bo'linsa ekranga 6 ga karrali son deb chiqaring aks  xolda xatolik bor deb ekranga chiqaring "
   ]
  },
  {
   "cell_type": "code",
   "execution_count": 1,
   "metadata": {},
   "outputs": [
    {
     "name": "stdout",
     "output_type": "stream",
     "text": [
      "kirish mumkin\n"
     ]
    }
   ],
   "source": [
    "# Parol yasang va u to'g'ri bo'lsa mumkin aks xolda xato!Qayta urunib ko'ring degan yozuvni ekranga chiqaring\n",
    "\n",
    "parol=123\n",
    "if parol==123:\n",
    "    print('kirish mumkin')"
   ]
  },
  {
   "cell_type": "code",
   "execution_count": 4,
   "metadata": {},
   "outputs": [
    {
     "name": "stdout",
     "output_type": "stream",
     "text": [
      "kirish mumkin\n"
     ]
    }
   ],
   "source": [
    "parol2=int(input('parolni kiriting'))\n",
    "if parol2==1111:\n",
    "    print('kirish mumkin')"
   ]
  },
  {
   "cell_type": "code",
   "execution_count": 14,
   "metadata": {},
   "outputs": [
    {
     "name": "stdout",
     "output_type": "stream",
     "text": [
      "qayta urunib koring\n"
     ]
    }
   ],
   "source": [
    "parol2=int(input('parolni kiriting'))\n",
    "if parol2==1111:\n",
    "    print('mumkin')\n",
    "else:\n",
    "    print('qayta urunib koring')"
   ]
  },
  {
   "cell_type": "code",
   "execution_count": null,
   "metadata": {},
   "outputs": [
    {
     "name": "stdout",
     "output_type": "stream",
     "text": [
      "qayta urunib koring\n"
     ]
    }
   ],
   "source": [
    "parol2=int(input('parolni kiriting'))\n",
    "if parol2==1111:\n",
    "    print('mumkin')\n",
    "elif parol2==1110:\n",
    "    print('yaqin keldiz')\n",
    "else:\n",
    "    print('qayta urunib koring')"
   ]
  },
  {
   "cell_type": "code",
   "execution_count": 6,
   "metadata": {},
   "outputs": [
    {
     "name": "stdout",
     "output_type": "stream",
     "text": [
      "yaxshi\n"
     ]
    }
   ],
   "source": [
    "# O'quvchini olgan baxolariga ko'ra tarif bering(5:Alo, 4:Yaxshi, 3: O'rta, 2: Yomon)\n",
    "\n",
    "mark=int(input('bahoni kiriting'))\n",
    "if mark==5:\n",
    "    print('alo')\n",
    "elif mark==4:\n",
    "    print('yaxshi')\n",
    "elif mark==3:\n",
    "    print('orta')\n",
    "elif mark==2:\n",
    "    print('yomon')\n",
    "\n",
    "\n"
   ]
  },
  {
   "cell_type": "code",
   "execution_count": 16,
   "metadata": {},
   "outputs": [
    {
     "name": "stdout",
     "output_type": "stream",
     "text": [
      "great\n"
     ]
    }
   ],
   "source": [
    "# Agar son xam 2 ga xam 3 ga bo'linishini ko'rsating(BOoleandan foydalaning)\n",
    "\n",
    "x=int(input('enter number'))\n",
    "if x%3==0 and x%2==0:\n",
    "    print('great')\n",
    "else:\n",
    "    print('wrong')\n"
   ]
  },
  {
   "cell_type": "code",
   "execution_count": 17,
   "metadata": {},
   "outputs": [
    {
     "name": "stdout",
     "output_type": "stream",
     "text": [
      "6 ga karrali son\n"
     ]
    }
   ],
   "source": [
    "# Agar son xam 2 ga xam 3 ga bo'linsa ekranga 6 ga karrali son deb chiqaring aks  xolda xatolik bor deb ekranga chiqaring \n",
    "\n",
    "a=int(input('enter number'))\n",
    "if a%3==0 and a%2==0:\n",
    "    print('6 ga karrali son')\n",
    "else:\n",
    "    print('wroxatolik bor')"
   ]
  }
 ],
 "metadata": {
  "kernelspec": {
   "display_name": "Python 3",
   "language": "python",
   "name": "python3"
  },
  "language_info": {
   "codemirror_mode": {
    "name": "ipython",
    "version": 3
   },
   "file_extension": ".py",
   "mimetype": "text/x-python",
   "name": "python",
   "nbconvert_exporter": "python",
   "pygments_lexer": "ipython3",
   "version": "3.12.3"
  }
 },
 "nbformat": 4,
 "nbformat_minor": 2
}
